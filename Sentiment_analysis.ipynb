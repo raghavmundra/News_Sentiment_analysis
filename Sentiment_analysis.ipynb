{
  "nbformat": 4,
  "nbformat_minor": 0,
  "metadata": {
    "colab": {
      "name": "Sentiment_analysis.ipynb",
      "provenance": [],
      "collapsed_sections": [],
      "mount_file_id": "1ARePYk7eVWCCevtDFtHnadw_le0wV9yP",
      "authorship_tag": "ABX9TyNtk+EM+M4WOuIrlP0uCA4H"
    },
    "kernelspec": {
      "display_name": "Python 3",
      "name": "python3"
    },
    "language_info": {
      "name": "python"
    }
  },
  "cells": [
    {
      "cell_type": "markdown",
      "metadata": {
        "id": "5_mi47v7d-pP"
      },
      "source": [
        "## Importing required libraries"
      ]
    },
    {
      "cell_type": "code",
      "metadata": {
        "id": "DgftNIWxfDOW"
      },
      "source": [
        "import pandas as pd\n",
        "from nltk import word_tokenize\n",
        "import re\n",
        "import nltk\n",
        "from nltk.corpus import stopwords\n",
        "from nltk.stem.wordnet import WordNetLemmatizer\n",
        "from textblob import TextBlob\n",
        "from sklearn.preprocessing import LabelEncoder\n",
        "import datetime\n",
        "import matplotlib.pyplot as plt\n",
        "from sklearn.svm import LinearSVR\n",
        "from sklearn.model_selection import train_test_split\n",
        "from sklearn.metrics import mean_absolute_error\n",
        "\n"
      ],
      "execution_count": 1,
      "outputs": []
    },
    {
      "cell_type": "markdown",
      "metadata": {
        "id": "rj7YSaaPdvWI"
      },
      "source": [
        "## Reading data : \n",
        "  data  : training data"
      ]
    },
    {
      "cell_type": "code",
      "metadata": {
        "id": "kOxGOmRpwY5i"
      },
      "source": [
        "data = pd.read_csv(\"/content/drive/MyDrive/zs/train_file.csv\")"
      ],
      "execution_count": 2,
      "outputs": []
    },
    {
      "cell_type": "markdown",
      "metadata": {
        "id": "2DimjEHMwaDQ"
      },
      "source": [
        "## Exploring Data"
      ]
    },
    {
      "cell_type": "code",
      "metadata": {
        "colab": {
          "base_uri": "https://localhost:8080/",
          "height": 354
        },
        "id": "Jw9sB2_1gqCC",
        "outputId": "c1ac5589-a166-4e60-9324-116e3137b25e"
      },
      "source": [
        "\n",
        "data.head()\n"
      ],
      "execution_count": 3,
      "outputs": [
        {
          "output_type": "execute_result",
          "data": {
            "text/html": [
              "<div>\n",
              "<style scoped>\n",
              "    .dataframe tbody tr th:only-of-type {\n",
              "        vertical-align: middle;\n",
              "    }\n",
              "\n",
              "    .dataframe tbody tr th {\n",
              "        vertical-align: top;\n",
              "    }\n",
              "\n",
              "    .dataframe thead th {\n",
              "        text-align: right;\n",
              "    }\n",
              "</style>\n",
              "<table border=\"1\" class=\"dataframe\">\n",
              "  <thead>\n",
              "    <tr style=\"text-align: right;\">\n",
              "      <th></th>\n",
              "      <th>IDLink</th>\n",
              "      <th>Title</th>\n",
              "      <th>Headline</th>\n",
              "      <th>Source</th>\n",
              "      <th>Topic</th>\n",
              "      <th>PublishDate</th>\n",
              "      <th>Facebook</th>\n",
              "      <th>GooglePlus</th>\n",
              "      <th>LinkedIn</th>\n",
              "      <th>SentimentTitle</th>\n",
              "      <th>SentimentHeadline</th>\n",
              "    </tr>\n",
              "  </thead>\n",
              "  <tbody>\n",
              "    <tr>\n",
              "      <th>0</th>\n",
              "      <td>Tr3CMgRv1N</td>\n",
              "      <td>Obama Lays Wreath at Arlington National Cemetery</td>\n",
              "      <td>Obama Lays Wreath at Arlington National Cemete...</td>\n",
              "      <td>USA TODAY</td>\n",
              "      <td>obama</td>\n",
              "      <td>2002-04-02 00:00:00</td>\n",
              "      <td>-1</td>\n",
              "      <td>-1</td>\n",
              "      <td>-1</td>\n",
              "      <td>0.000000</td>\n",
              "      <td>-0.053300</td>\n",
              "    </tr>\n",
              "    <tr>\n",
              "      <th>1</th>\n",
              "      <td>Wc81vGp8qZ</td>\n",
              "      <td>A Look at the Health of the Chinese Economy</td>\n",
              "      <td>Tim Haywood, investment director business-unit...</td>\n",
              "      <td>Bloomberg</td>\n",
              "      <td>economy</td>\n",
              "      <td>2008-09-20 00:00:00</td>\n",
              "      <td>-1</td>\n",
              "      <td>-1</td>\n",
              "      <td>-1</td>\n",
              "      <td>0.208333</td>\n",
              "      <td>-0.156386</td>\n",
              "    </tr>\n",
              "    <tr>\n",
              "      <th>2</th>\n",
              "      <td>zNGH03CrZH</td>\n",
              "      <td>Nouriel Roubini: Global Economy Not Back to 2008</td>\n",
              "      <td>Nouriel Roubini, NYU professor and chairman at...</td>\n",
              "      <td>Bloomberg</td>\n",
              "      <td>economy</td>\n",
              "      <td>2012-01-28 00:00:00</td>\n",
              "      <td>-1</td>\n",
              "      <td>-1</td>\n",
              "      <td>-1</td>\n",
              "      <td>-0.425210</td>\n",
              "      <td>0.139754</td>\n",
              "    </tr>\n",
              "    <tr>\n",
              "      <th>3</th>\n",
              "      <td>3sM1H0W8ts</td>\n",
              "      <td>Finland GDP Expands In Q4</td>\n",
              "      <td>Finland's economy expanded marginally in the t...</td>\n",
              "      <td>RTT News</td>\n",
              "      <td>economy</td>\n",
              "      <td>2015-03-01 00:06:00</td>\n",
              "      <td>-1</td>\n",
              "      <td>-1</td>\n",
              "      <td>-1</td>\n",
              "      <td>0.000000</td>\n",
              "      <td>0.026064</td>\n",
              "    </tr>\n",
              "    <tr>\n",
              "      <th>4</th>\n",
              "      <td>wUbnxgvqaZ</td>\n",
              "      <td>Tourism, govt spending buoys Thai economy in J...</td>\n",
              "      <td>Tourism and public spending continued to boost...</td>\n",
              "      <td>The Nation - Thailand&amp;#39;s English news</td>\n",
              "      <td>economy</td>\n",
              "      <td>2015-03-01 00:11:00</td>\n",
              "      <td>-1</td>\n",
              "      <td>-1</td>\n",
              "      <td>-1</td>\n",
              "      <td>0.000000</td>\n",
              "      <td>0.141084</td>\n",
              "    </tr>\n",
              "  </tbody>\n",
              "</table>\n",
              "</div>"
            ],
            "text/plain": [
              "       IDLink  ... SentimentHeadline\n",
              "0  Tr3CMgRv1N  ...         -0.053300\n",
              "1  Wc81vGp8qZ  ...         -0.156386\n",
              "2  zNGH03CrZH  ...          0.139754\n",
              "3  3sM1H0W8ts  ...          0.026064\n",
              "4  wUbnxgvqaZ  ...          0.141084\n",
              "\n",
              "[5 rows x 11 columns]"
            ]
          },
          "metadata": {},
          "execution_count": 3
        }
      ]
    },
    {
      "cell_type": "code",
      "metadata": {
        "colab": {
          "base_uri": "https://localhost:8080/"
        },
        "id": "P8MNiJN5g4cb",
        "outputId": "f2a12c1d-f62e-4e9f-f56d-110edf0e3da0"
      },
      "source": [
        "print(data.shape)"
      ],
      "execution_count": 4,
      "outputs": [
        {
          "output_type": "stream",
          "name": "stdout",
          "text": [
            "(55932, 11)\n"
          ]
        }
      ]
    },
    {
      "cell_type": "code",
      "metadata": {
        "colab": {
          "base_uri": "https://localhost:8080/"
        },
        "id": "SKh1tbGDiQYD",
        "outputId": "f710dd3e-4903-4c3e-bdd7-1c2da998a90f"
      },
      "source": [
        "data.nunique()"
      ],
      "execution_count": 5,
      "outputs": [
        {
          "output_type": "execute_result",
          "data": {
            "text/plain": [
              "IDLink               55932\n",
              "Title                48963\n",
              "Headline             52112\n",
              "Source                4753\n",
              "Topic                    4\n",
              "PublishDate          49602\n",
              "Facebook              2166\n",
              "GooglePlus             273\n",
              "LinkedIn               648\n",
              "SentimentTitle       10014\n",
              "SentimentHeadline    27265\n",
              "dtype: int64"
            ]
          },
          "metadata": {},
          "execution_count": 5
        }
      ]
    },
    {
      "cell_type": "code",
      "metadata": {
        "colab": {
          "base_uri": "https://localhost:8080/"
        },
        "id": "ZMjdCrzRi0_J",
        "outputId": "21e90c61-0171-411d-d5c5-12ef07a8c6af"
      },
      "source": [
        "data.info()"
      ],
      "execution_count": 6,
      "outputs": [
        {
          "output_type": "stream",
          "name": "stdout",
          "text": [
            "<class 'pandas.core.frame.DataFrame'>\n",
            "RangeIndex: 55932 entries, 0 to 55931\n",
            "Data columns (total 11 columns):\n",
            " #   Column             Non-Null Count  Dtype  \n",
            "---  ------             --------------  -----  \n",
            " 0   IDLink             55932 non-null  object \n",
            " 1   Title              55932 non-null  object \n",
            " 2   Headline           55932 non-null  object \n",
            " 3   Source             55757 non-null  object \n",
            " 4   Topic              55932 non-null  object \n",
            " 5   PublishDate        55932 non-null  object \n",
            " 6   Facebook           55932 non-null  int64  \n",
            " 7   GooglePlus         55932 non-null  int64  \n",
            " 8   LinkedIn           55932 non-null  int64  \n",
            " 9   SentimentTitle     55932 non-null  float64\n",
            " 10  SentimentHeadline  55932 non-null  float64\n",
            "dtypes: float64(2), int64(3), object(6)\n",
            "memory usage: 4.7+ MB\n"
          ]
        }
      ]
    },
    {
      "cell_type": "code",
      "metadata": {
        "colab": {
          "base_uri": "https://localhost:8080/",
          "height": 295
        },
        "id": "v8TVFK3Hk3ce",
        "outputId": "5e647e4c-24bb-487e-d37d-b23f79bcf570"
      },
      "source": [
        "data.describe()"
      ],
      "execution_count": 7,
      "outputs": [
        {
          "output_type": "execute_result",
          "data": {
            "text/html": [
              "<div>\n",
              "<style scoped>\n",
              "    .dataframe tbody tr th:only-of-type {\n",
              "        vertical-align: middle;\n",
              "    }\n",
              "\n",
              "    .dataframe tbody tr th {\n",
              "        vertical-align: top;\n",
              "    }\n",
              "\n",
              "    .dataframe thead th {\n",
              "        text-align: right;\n",
              "    }\n",
              "</style>\n",
              "<table border=\"1\" class=\"dataframe\">\n",
              "  <thead>\n",
              "    <tr style=\"text-align: right;\">\n",
              "      <th></th>\n",
              "      <th>Facebook</th>\n",
              "      <th>GooglePlus</th>\n",
              "      <th>LinkedIn</th>\n",
              "      <th>SentimentTitle</th>\n",
              "      <th>SentimentHeadline</th>\n",
              "    </tr>\n",
              "  </thead>\n",
              "  <tbody>\n",
              "    <tr>\n",
              "      <th>count</th>\n",
              "      <td>55932.000000</td>\n",
              "      <td>55932.000000</td>\n",
              "      <td>55932.000000</td>\n",
              "      <td>55932.000000</td>\n",
              "      <td>55932.000000</td>\n",
              "    </tr>\n",
              "    <tr>\n",
              "      <th>mean</th>\n",
              "      <td>132.050329</td>\n",
              "      <td>4.551616</td>\n",
              "      <td>14.300132</td>\n",
              "      <td>-0.006318</td>\n",
              "      <td>-0.029577</td>\n",
              "    </tr>\n",
              "    <tr>\n",
              "      <th>std</th>\n",
              "      <td>722.931314</td>\n",
              "      <td>21.137177</td>\n",
              "      <td>76.651420</td>\n",
              "      <td>0.137569</td>\n",
              "      <td>0.143038</td>\n",
              "    </tr>\n",
              "    <tr>\n",
              "      <th>min</th>\n",
              "      <td>-1.000000</td>\n",
              "      <td>-1.000000</td>\n",
              "      <td>-1.000000</td>\n",
              "      <td>-0.838525</td>\n",
              "      <td>-0.755355</td>\n",
              "    </tr>\n",
              "    <tr>\n",
              "      <th>25%</th>\n",
              "      <td>0.000000</td>\n",
              "      <td>0.000000</td>\n",
              "      <td>0.000000</td>\n",
              "      <td>-0.079057</td>\n",
              "      <td>-0.116927</td>\n",
              "    </tr>\n",
              "    <tr>\n",
              "      <th>50%</th>\n",
              "      <td>6.000000</td>\n",
              "      <td>0.000000</td>\n",
              "      <td>0.000000</td>\n",
              "      <td>0.000000</td>\n",
              "      <td>-0.027277</td>\n",
              "    </tr>\n",
              "    <tr>\n",
              "      <th>75%</th>\n",
              "      <td>37.000000</td>\n",
              "      <td>2.000000</td>\n",
              "      <td>4.000000</td>\n",
              "      <td>0.063969</td>\n",
              "      <td>0.057354</td>\n",
              "    </tr>\n",
              "    <tr>\n",
              "      <th>max</th>\n",
              "      <td>49211.000000</td>\n",
              "      <td>1267.000000</td>\n",
              "      <td>3716.000000</td>\n",
              "      <td>0.962354</td>\n",
              "      <td>0.964646</td>\n",
              "    </tr>\n",
              "  </tbody>\n",
              "</table>\n",
              "</div>"
            ],
            "text/plain": [
              "           Facebook    GooglePlus  ...  SentimentTitle  SentimentHeadline\n",
              "count  55932.000000  55932.000000  ...    55932.000000       55932.000000\n",
              "mean     132.050329      4.551616  ...       -0.006318          -0.029577\n",
              "std      722.931314     21.137177  ...        0.137569           0.143038\n",
              "min       -1.000000     -1.000000  ...       -0.838525          -0.755355\n",
              "25%        0.000000      0.000000  ...       -0.079057          -0.116927\n",
              "50%        6.000000      0.000000  ...        0.000000          -0.027277\n",
              "75%       37.000000      2.000000  ...        0.063969           0.057354\n",
              "max    49211.000000   1267.000000  ...        0.962354           0.964646\n",
              "\n",
              "[8 rows x 5 columns]"
            ]
          },
          "metadata": {},
          "execution_count": 7
        }
      ]
    },
    {
      "cell_type": "markdown",
      "metadata": {
        "id": "Jl5wjNPbekyl"
      },
      "source": [
        "## Preprocessing data\n"
      ]
    },
    {
      "cell_type": "markdown",
      "metadata": {
        "id": "opzslepJe-RE"
      },
      "source": [
        "### Treating null values:\n",
        "   \n"
      ]
    },
    {
      "cell_type": "code",
      "metadata": {
        "colab": {
          "base_uri": "https://localhost:8080/"
        },
        "id": "PYE_C0zGpegW",
        "outputId": "8a2d13a2-ee91-4313-8216-dfc85d6d475d"
      },
      "source": [
        "a=data.isnull().sum()\n",
        "print(\"For training dataset\")\n",
        "print(a[a>0])"
      ],
      "execution_count": 8,
      "outputs": [
        {
          "output_type": "stream",
          "name": "stdout",
          "text": [
            "For training dataset\n",
            "Source    175\n",
            "dtype: int64\n"
          ]
        }
      ]
    },
    {
      "cell_type": "code",
      "metadata": {
        "id": "wtImuQS2hj09"
      },
      "source": [
        "replacement_value=data.Source.mode()[0]"
      ],
      "execution_count": 9,
      "outputs": []
    },
    {
      "cell_type": "code",
      "metadata": {
        "id": "qZR-DySRiORZ"
      },
      "source": [
        "\n",
        "data['Source'] = data['Source'].fillna(replacement_value)"
      ],
      "execution_count": 10,
      "outputs": []
    },
    {
      "cell_type": "markdown",
      "metadata": {
        "id": "OnWQt8WEjuAK"
      },
      "source": [
        "### Processing text data"
      ]
    },
    {
      "cell_type": "markdown",
      "metadata": {
        "id": "wvAhujr3ob5z"
      },
      "source": [
        "####Tokenizing data"
      ]
    },
    {
      "cell_type": "code",
      "metadata": {
        "colab": {
          "base_uri": "https://localhost:8080/"
        },
        "id": "j0qospyCoasM",
        "outputId": "14804cdc-7cc6-468f-b065-fad4adc2cbd9"
      },
      "source": [
        "nltk.download('stopwords')\n",
        "nltk.download('wordnet')\n",
        "nltk.download('punkt')\n",
        "wnet = WordNetLemmatizer()\n",
        "def tokenize(text):\n",
        "  text = text.lower()\n",
        "  text = word_tokenize(text)\n",
        "  text = [re.sub(r'[^\\w\\s]',\"\",w) for w in text if re.sub(r'[^\\w\\s]',\"\",w) is not \"\"  ]\n",
        "  text = [w for w in text if w is re.sub(r'[^a-zA-Z]+',\"\",w)]\n",
        "  text = [w for w in text if w not in stopwords.words('english')]\n",
        "  text = [wnet.lemmatize(w,'v') for w in text]\n",
        "\n",
        "\n",
        "  return text"
      ],
      "execution_count": 11,
      "outputs": [
        {
          "output_type": "stream",
          "name": "stdout",
          "text": [
            "[nltk_data] Downloading package stopwords to /root/nltk_data...\n",
            "[nltk_data]   Package stopwords is already up-to-date!\n",
            "[nltk_data] Downloading package wordnet to /root/nltk_data...\n",
            "[nltk_data]   Package wordnet is already up-to-date!\n",
            "[nltk_data] Downloading package punkt to /root/nltk_data...\n",
            "[nltk_data]   Package punkt is already up-to-date!\n"
          ]
        }
      ]
    },
    {
      "cell_type": "code",
      "metadata": {
        "id": "CzRqwTMlSQ4t"
      },
      "source": [
        "data['Title']=data['Title'].apply(tokenize)\n",
        "data['Headline']=data['Headline'].apply(tokenize)\n"
      ],
      "execution_count": 12,
      "outputs": []
    },
    {
      "cell_type": "markdown",
      "metadata": {
        "id": "DpZ2QW8TlsEF"
      },
      "source": [
        "## Feature engineering"
      ]
    },
    {
      "cell_type": "code",
      "metadata": {
        "id": "EnUziu9sHZXb"
      },
      "source": [
        "data['polarity_t'] = data['Title'].apply(lambda x: TextBlob(\" \".join(x)).sentiment.polarity)\n",
        "\n",
        "data['subjectivity_t'] = data['Title'].apply(lambda x: TextBlob(\" \".join(x)).sentiment.subjectivity)\n",
        "\n",
        "data['polarity_h'] = data['Headline'].apply(lambda x: TextBlob(\" \".join(x)).sentiment.polarity)\n",
        "\n",
        "data['subjectivity_h'] = data['Headline'].apply(lambda x: TextBlob(\" \".join(x)).sentiment.subjectivity)\n"
      ],
      "execution_count": 13,
      "outputs": []
    },
    {
      "cell_type": "code",
      "metadata": {
        "id": "s-1N6hnuKjFz"
      },
      "source": [
        "encoder = LabelEncoder()\n",
        "\n",
        "data['Topic'] = encoder.fit_transform(data['Topic'])\n",
        "\n",
        "total = data['Source'].to_list() \n",
        "total = encoder.fit_transform(total)\n",
        "data['Source'] = encoder.transform(data['Source'])"
      ],
      "execution_count": 15,
      "outputs": []
    },
    {
      "cell_type": "code",
      "metadata": {
        "id": "igJ8eJkSLgUN"
      },
      "source": [
        "# Get day-type(monday, tuesday) from datetime\n",
        "\n",
        "data_weekday = []\n",
        "\n",
        "for i in data['PublishDate']:\n",
        "    data_weekday.append(datetime.datetime.strptime(i, \"%Y-%m-%d %H:%M:%S\").strftime(\"%A\"))\n",
        "    \n",
        "\n",
        "data['weekday'] = data_weekday\n",
        "\n",
        "\n",
        "# convert weekday to 0-6\n",
        "\n",
        "data['weekday'] = data['weekday'].map({'Monday': 0,\n",
        "                                        'Tuesday': 1,\n",
        "                                        'Wednesday': 2,\n",
        "                                        'Thursday': 3,\n",
        "                                        'Friday': 4,\n",
        "                                        'Saturday': 5,\n",
        "                                        'Sunday': 6})"
      ],
      "execution_count": 16,
      "outputs": []
    },
    {
      "cell_type": "code",
      "metadata": {
        "id": "KGiyXBpVLf94"
      },
      "source": [
        "data[\"hour\"] = data[\"PublishDate\"].apply(lambda x: x.split()[1].split(':')[0])"
      ],
      "execution_count": 18,
      "outputs": []
    },
    {
      "cell_type": "code",
      "metadata": {
        "colab": {
          "base_uri": "https://localhost:8080/",
          "height": 366
        },
        "id": "6ExkHFjjMcXR",
        "outputId": "d0f17de2-1129-43c9-9fb0-911b2ad94acc"
      },
      "source": [
        "plt.hist(data.SentimentTitle)"
      ],
      "execution_count": 20,
      "outputs": [
        {
          "output_type": "execute_result",
          "data": {
            "text/plain": [
              "(array([7.0000e+00, 1.3400e+02, 1.2720e+03, 8.4750e+03, 3.1803e+04,\n",
              "        1.2144e+04, 1.8480e+03, 2.1900e+02, 2.3000e+01, 7.0000e+00]),\n",
              " array([-0.83852549, -0.65843759, -0.47834968, -0.29826178, -0.11817387,\n",
              "         0.06191403,  0.24200194,  0.42208985,  0.60217775,  0.78226566,\n",
              "         0.96235356]),\n",
              " <a list of 10 Patch objects>)"
            ]
          },
          "metadata": {},
          "execution_count": 20
        },
        {
          "output_type": "display_data",
          "data": {
            "image/png": "[encoded data removed]",
            "text/plain": [
              "<Figure size 432x288 with 1 Axes>"
            ]
          },
          "metadata": {
            "needs_background": "light"
          }
        }
      ]
    },
    {
      "cell_type": "code",
      "metadata": {
        "colab": {
          "base_uri": "https://localhost:8080/",
          "height": 366
        },
        "id": "Fb--Ug6gMcK1",
        "outputId": "9ca695cc-7c97-4277-90e9-116aca3f5ce8"
      },
      "source": [
        "plt.hist(data.SentimentHeadline)"
      ],
      "execution_count": 21,
      "outputs": [
        {
          "output_type": "execute_result",
          "data": {
            "text/plain": [
              "(array([3.0000e+01, 3.6600e+02, 3.5130e+03, 1.7183e+04, 2.6092e+04,\n",
              "        7.6890e+03, 9.6300e+02, 8.3000e+01, 8.0000e+00, 5.0000e+00]),\n",
              " array([-0.75535505, -0.58335492, -0.41135479, -0.23935466, -0.06735453,\n",
              "         0.1046456 ,  0.27664572,  0.44864585,  0.62064598,  0.79264611,\n",
              "         0.96464624]),\n",
              " <a list of 10 Patch objects>)"
            ]
          },
          "metadata": {},
          "execution_count": 21
        },
        {
          "output_type": "display_data",
          "data": {
            "image/png": "[encoded data removed]",
            "text/plain": [
              "<Figure size 432x288 with 1 Axes>"
            ]
          },
          "metadata": {
            "needs_background": "light"
          }
        }
      ]
    },
    {
      "cell_type": "markdown",
      "metadata": {
        "id": "5DYSylWmlzn_"
      },
      "source": [
        "## Model training\n"
      ]
    },
    {
      "cell_type": "code",
      "metadata": {
        "id": "p3lkSDS6MbzR"
      },
      "source": [
        "training_title=data[['Source', 'Topic','Facebook', 'GooglePlus', 'LinkedIn','polarity_t', 'subjectivity_t','weekday', 'hour']]\n",
        "training_head=data[['Source', 'Topic','Facebook', 'GooglePlus', 'LinkedIn','polarity_h', 'subjectivity_h','weekday', 'hour']]"
      ],
      "execution_count": 22,
      "outputs": []
    },
    {
      "cell_type": "code",
      "metadata": {
        "colab": {
          "base_uri": "https://localhost:8080/"
        },
        "id": "E3WBhOzJgu1i",
        "outputId": "328a3e3f-410a-4ca4-a20c-a60e4a20b571"
      },
      "source": [
        "X_train, X_test, y_train, y_test = train_test_split(training_title,data['SentimentTitle'],random_state=1)\n",
        "clf1 = LinearSVR(C=0.3)\n",
        "clf1.fit(X_train, y_train)\n",
        "\n",
        "y_pred1 = clf1.predict(X_test)\n",
        "mae1 = mean_absolute_error(y_pred1, y_test)\n",
        "print('MAE:', 1 - mae1)"
      ],
      "execution_count": 26,
      "outputs": [
        {
          "output_type": "stream",
          "name": "stdout",
          "text": [
            "MAE: 0.844095338407022\n"
          ]
        },
        {
          "output_type": "stream",
          "name": "stderr",
          "text": [
            "/usr/local/lib/python3.7/dist-packages/sklearn/svm/_base.py:947: ConvergenceWarning: Liblinear failed to converge, increase the number of iterations.\n",
            "  \"the number of iterations.\", ConvergenceWarning)\n"
          ]
        }
      ]
    },
    {
      "cell_type": "code",
      "metadata": {
        "colab": {
          "base_uri": "https://localhost:8080/"
        },
        "id": "gZkmeg0tguo6",
        "outputId": "fc06f2f5-c151-48b3-b5e2-db1bd5cd9e68"
      },
      "source": [
        "X_train, X_test, y_train, y_test = train_test_split(training_head,data['SentimentHeadline'],random_state=1)\n",
        "clf2 = LinearSVR(C=0.3)\n",
        "clf2.fit(X_train, y_train)\n",
        "\n",
        "y_pred2 = clf2.predict(X_test)\n",
        "mae2 = mean_absolute_error(y_pred2, y_test)\n",
        "print('MAE:', 1 - mae2)"
      ],
      "execution_count": 27,
      "outputs": [
        {
          "output_type": "stream",
          "name": "stdout",
          "text": [
            "MAE: 0.8221845424255613\n"
          ]
        },
        {
          "output_type": "stream",
          "name": "stderr",
          "text": [
            "/usr/local/lib/python3.7/dist-packages/sklearn/svm/_base.py:947: ConvergenceWarning: Liblinear failed to converge, increase the number of iterations.\n",
            "  \"the number of iterations.\", ConvergenceWarning)\n"
          ]
        }
      ]
    },
    {
      "cell_type": "code",
      "metadata": {
        "colab": {
          "base_uri": "https://localhost:8080/"
        },
        "id": "a-6UR-o1gulY",
        "outputId": "8a2eb83c-cd62-4230-8a12-3637b95dd04d"
      },
      "source": [
        "print('MAE:', 1 - ((0.4 * mae1) + (0.6 * mae2)))"
      ],
      "execution_count": 28,
      "outputs": [
        {
          "output_type": "stream",
          "name": "stdout",
          "text": [
            "MAE: 0.8309488608181456\n"
          ]
        }
      ]
    }
  ]
}